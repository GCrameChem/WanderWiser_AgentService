{
 "cells": [
  {
   "cell_type": "markdown",
   "id": "f103fd8d-b726-4e5f-8f60-b20eca2d20c7",
   "metadata": {},
   "source": [
    "## 更到最新"
   ]
  },
  {
   "cell_type": "code",
   "execution_count": 16,
   "id": "795e8ba9-940c-45a7-9f5c-008f4c7e22b0",
   "metadata": {},
   "outputs": [],
   "source": [
    "# %%capture --no-stderr\n",
    "# %pip install --quiet -U langgraph langchain-community langchain-openai tavily-python"
   ]
  },
  {
   "cell_type": "markdown",
   "id": "43d965ff-95f5-40a6-90cf-e5d042604d60",
   "metadata": {},
   "source": [
    "## 设置环境变量"
   ]
  },
  {
   "cell_type": "code",
   "execution_count": 3,
   "id": "6a7bd0cc-1078-4947-acf9-9faf972f0bfb",
   "metadata": {},
   "outputs": [
    {
     "data": {
      "text/plain": [
       "True"
      ]
     },
     "execution_count": 3,
     "metadata": {},
     "output_type": "execute_result"
    }
   ],
   "source": [
    "import getpass\n",
    "import os\n",
    "from dotenv import load_dotenv\n",
    "from langchain_core.messages import SystemMessage, HumanMessage\n",
    "from langchain_openai import ChatOpenAI\n",
    "\n",
    "load_dotenv()"
   ]
  },
  {
   "cell_type": "markdown",
   "id": "63c551e1-3153-41c4-bc58-eaafce33074a",
   "metadata": {},
   "source": [
    "## 定义工具"
   ]
  },
  {
   "cell_type": "code",
   "execution_count": 4,
   "id": "3e2dc342-fc97-44bf-b84b-66c354b7481f",
   "metadata": {},
   "outputs": [],
   "source": [
    "from langchain_community.tools.tavily_search import TavilySearchResults\n",
    "\n",
    "\n",
    "\n",
    "tools = [TavilySearchResults(max_results=3)]"
   ]
  },
  {
   "cell_type": "markdown",
   "id": "0790c507-8ea9-4853-add1-5a3cc3a4875a",
   "metadata": {},
   "source": [
    "## 定义Executor"
   ]
  },
  {
   "cell_type": "code",
   "execution_count": 6,
   "id": "9ea0c090-7d94-426f-885a-2341a6da3776",
   "metadata": {},
   "outputs": [
    {
     "name": "stdout",
     "output_type": "stream",
     "text": [
      "you are an expert at planning a multi-day journey. Now I will tell you some of my idea which include but not just the destination,\n",
      "my interest and requirement. You should use tools and the template that I will give you later to help me generate a feasible and custom-made plan. \n",
      "Any other request is NOT allowable, give me tender warning if I do so.\n",
      "and here is my idea:\u001b[33;1m\u001b[1;3m{messages}\u001b[0m\n",
      "and your answer should be based on this template, in the format of MARKDOWN, in the language of Chinese:\n",
      "# (Title)\n",
      "---\n",
      "## 第(number)天 - (place, activity, restaurant, accommodation or other) - (weather forecast) - (date)\n",
      "- **(keyword)**: (the content)\n",
      "- **(main content)**: (detailed content)\n",
      "- **(the accommadation)**: (detailed content)\n",
      "---\n",
      "(if a multi-day plan, the other block are the same as above.\n",
      "## 第(number+1)天 - (place, activity, restaurant, accommodation or other) - (weather forecast) - (date)\n",
      "......)\n",
      "    \n"
     ]
    }
   ],
   "source": [
    "from langchain import hub\n",
    "from langchain_openai import ChatOpenAI\n",
    "from langchain import OpenAI,PromptTemplate,LLMChain\n",
    "from langchain.prompts import PromptTemplate\n",
    "from langchain.tools import Tool\n",
    "from langchain.llms import OpenAI\n",
    "from langchain import LLMMathChain\n",
    "\n",
    "from langgraph.prebuilt import create_react_agent\n",
    "\n",
    "# Get the prompt to use - you can modify this!\n",
    "# prompt = hub.pull(\"ih/ih-react-agent-executor\")\n",
    "SystemPrompt = PromptTemplate(\n",
    "    input_variables=[\"messages\"],\n",
    "    template=\"\"\"you are an expert at planning a multi-day journey. Now I will tell you some of my idea which include but not just the destination,\n",
    "my interest and requirement. You should use tools and the template that I will give you later to help me generate a feasible and custom-made plan. \n",
    "Any other request is NOT allowable, give me tender warning if I do so.\n",
    "and here is my idea:{messages}\n",
    "and your answer should be based on this template, in the format of MARKDOWN, in the language of Chinese:\n",
    "# (Title)\n",
    "---\n",
    "## 第(number)天 - (place, activity, restaurant, accommodation or other) - (weather forecast) - (date)\n",
    "- **(keyword)**: (the content)\n",
    "- **(main content)**: (detailed content)\n",
    "- **(the accommadation)**: (detailed content)\n",
    "---\n",
    "(if a multi-day plan, the other block are the same as above.\n",
    "## 第(number+1)天 - (place, activity, restaurant, accommodation or other) - (weather forecast) - (date)\n",
    "......)\n",
    "    \"\"\"\n",
    ")\n",
    "\n",
    "# Choose the LLM that will drive the agent\n",
    "llm = ChatOpenAI(model=\"gpt-4-turbo-preview\")\n",
    "agent_executor = create_react_agent(llm, tools, state_modifier=SystemPrompt)\n",
    "SystemPrompt.pretty_print()"
   ]
  },
  {
   "cell_type": "markdown",
   "id": "8f69336d-eb3f-4a0e-ade2-2216016a472d",
   "metadata": {},
   "source": [
    "## 定义系统prompt"
   ]
  },
  {
   "cell_type": "markdown",
   "id": "d01ccf8e-d64d-4c05-807b-4941947a3a46",
   "metadata": {},
   "source": [
    "## have a test"
   ]
  },
  {
   "cell_type": "code",
   "execution_count": null,
   "id": "382ef428-633f-4a3a-a838-3050bd1369d5",
   "metadata": {},
   "outputs": [],
   "source": [
    "# agent_executor.invoke({\n",
    "#     \"messages\": [(\"user\", \"我和一个朋友想要去成都旅游三天，我们喜欢人文艺术。请你给我们规划一份行程安排。\")],\n",
    "# })\n",
    "\n",
    "\n",
    "# 终端测试\n",
    "user_input = input(\"请输入你的旅行需求：\")\n",
    "agent_executor.invoke({\n",
    "    \"messages\": [(\"user\", user_input)],\n",
    "})"
   ]
  },
  {
   "cell_type": "markdown",
   "id": "8f672415-211a-410b-80e7-3c0cc016f76c",
   "metadata": {},
   "source": [
    "## 状态定义"
   ]
  }
 ],
 "metadata": {
  "kernelspec": {
   "display_name": "Python 3 (ipykernel)",
   "language": "python",
   "name": "python3"
  },
  "language_info": {
   "codemirror_mode": {
    "name": "ipython",
    "version": 3
   },
   "file_extension": ".py",
   "mimetype": "text/x-python",
   "name": "python",
   "nbconvert_exporter": "python",
   "pygments_lexer": "ipython3",
   "version": "3.12.6"
  }
 },
 "nbformat": 4,
 "nbformat_minor": 5
}
