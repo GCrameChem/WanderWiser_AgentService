{
 "cells": [
  {
   "cell_type": "markdown",
   "id": "f103fd8d-b726-4e5f-8f60-b20eca2d20c7",
   "metadata": {},
   "source": [
    "## 更到最新"
   ]
  },
  {
   "cell_type": "code",
   "execution_count": 16,
   "id": "795e8ba9-940c-45a7-9f5c-008f4c7e22b0",
   "metadata": {},
   "outputs": [],
   "source": [
    "%%capture --no-stderr\n",
    "%pip install --quiet -U langgraph langchain-community langchain-openai tavily-python"
   ]
  },
  {
   "cell_type": "markdown",
   "id": "43d965ff-95f5-40a6-90cf-e5d042604d60",
   "metadata": {},
   "source": [
    "## 设置环境变量"
   ]
  },
  {
   "cell_type": "code",
   "execution_count": 10,
   "id": "6a7bd0cc-1078-4947-acf9-9faf972f0bfb",
   "metadata": {},
   "outputs": [
    {
     "data": {
      "text/plain": [
       "True"
      ]
     },
     "execution_count": 10,
     "metadata": {},
     "output_type": "execute_result"
    }
   ],
   "source": [
    "import getpass\n",
    "import os\n",
    "from dotenv import load_dotenv\n",
    "from langchain_core.messages import SystemMessage, HumanMessage\n",
    "from langchain_openai import ChatOpenAI\n",
    "\n",
    "# 加载.env文件的环境变量\n",
    "load_dotenv()\n",
    "\n",
    "# def _set_env(var: str):\n",
    "#     if not os.environ.get(var):\n",
    "#         os.environ[var] = getpass.getpass(f\"{var}: \")\n",
    "# _set_env(\"OPENAI_API_KEY\")\n",
    "# _set_env(\"TAVILY_API_KEY\")"
   ]
  },
  {
   "cell_type": "markdown",
   "id": "63c551e1-3153-41c4-bc58-eaafce33074a",
   "metadata": {},
   "source": [
    "## 定义工具"
   ]
  },
  {
   "cell_type": "code",
   "execution_count": 11,
   "id": "3e2dc342-fc97-44bf-b84b-66c354b7481f",
   "metadata": {},
   "outputs": [],
   "source": [
    "from langchain_community.tools.tavily_search import TavilySearchResults\n",
    "\n",
    "tools = [TavilySearchResults(max_results=3)]"
   ]
  },
  {
   "cell_type": "markdown",
   "id": "0790c507-8ea9-4853-add1-5a3cc3a4875a",
   "metadata": {},
   "source": [
    "## 定义Executor"
   ]
  },
  {
   "cell_type": "code",
   "execution_count": 12,
   "id": "87be9917-1e29-42eb-8adc-c1e325e6c467",
   "metadata": {},
   "outputs": [],
   "source": [
    "# from langchain import hub\n",
    "# from langchain_openai import ChatOpenAI\n",
    "\n",
    "# from langgraph.prebuilt import create_react_agent\n",
    "\n",
    "# # Get the prompt to use - you can modify this!\n",
    "# prompt = hub.pull(\"ih/ih-react-agent-executor\")\n",
    "\n",
    "# prompt.pretty_print()\n",
    "\n",
    "# # Choose the LLM that will drive the agent\n",
    "# llm = ChatOpenAI(model=\"gpt-4-turbo-preview\")\n",
    "# agent_executor = create_react_agent(llm, tools, state_modifier=prompt)"
   ]
  },
  {
   "cell_type": "code",
   "execution_count": 36,
   "id": "9ea0c090-7d94-426f-885a-2341a6da3776",
   "metadata": {},
   "outputs": [
    {
     "name": "stdout",
     "output_type": "stream",
     "text": [
      "you are an expert at planning a multi-day journey. Now I will tell you some of my idea which include but not just the destination,\n",
      "my interest and requirement. You should use tools and the template that I will give you later to help me generate a feasible and custom-made plan. \n",
      "Any other request is NOT allowable, give me tender warning if I do so.\n",
      "and here is my idea:\u001b[33;1m\u001b[1;3m{messages}\u001b[0m\n",
      "and your answer should be based on this template, in the format of MARKDOWN, in the language of Chinese:\n",
      "# (Title)\n",
      "---\n",
      "## 第(number)天 - (place, activity, restaurant, accommodation or other) - (weather forecast) - (date)\n",
      "- **(keyword)**: (the content)\n",
      "- **(main content)**: (detailed content)\n",
      "- **(the accommadation)**: (detailed content)\n",
      "---\n",
      "(if a multi-day plan, the other block are the same as above.\n",
      "## 第(number+1)天 - (place, activity, restaurant, accommodation or other) - (weather forecast) - (date)\n",
      "......)\n",
      "    \n"
     ]
    }
   ],
   "source": [
    "from langchain import hub\n",
    "from langchain_openai import ChatOpenAI\n",
    "from langchain import OpenAI,PromptTemplate,LLMChain\n",
    "from langchain.prompts import PromptTemplate\n",
    "from langchain.tools import Tool\n",
    "from langchain.llms import OpenAI\n",
    "from langchain import LLMMathChain\n",
    "\n",
    "from langgraph.prebuilt import create_react_agent\n",
    "\n",
    "# Get the prompt to use - you can modify this!\n",
    "# prompt = hub.pull(\"ih/ih-react-agent-executor\")\n",
    "SystemPrompt = PromptTemplate(\n",
    "    input_variables=[\"messages\"],\n",
    "    template=\"\"\"you are an expert at planning a multi-day journey. Now I will tell you some of my idea which include but not just the destination,\n",
    "my interest and requirement. You should use tools and the template that I will give you later to help me generate a feasible and custom-made plan. \n",
    "Any other request is NOT allowable, give me tender warning if I do so.\n",
    "and here is my idea:{messages}\n",
    "and your answer should be based on this template, in the format of MARKDOWN, in the language of Chinese:\n",
    "# (Title)\n",
    "---\n",
    "## 第(number)天 - (place, activity, restaurant, accommodation or other) - (weather forecast) - (date)\n",
    "- **(keyword)**: (the content)\n",
    "- **(main content)**: (detailed content)\n",
    "- **(the accommadation)**: (detailed content)\n",
    "---\n",
    "(if a multi-day plan, the other block are the same as above.\n",
    "## 第(number+1)天 - (place, activity, restaurant, accommodation or other) - (weather forecast) - (date)\n",
    "......)\n",
    "    \"\"\"\n",
    ")\n",
    "\n",
    "# Choose the LLM that will drive the agent\n",
    "llm = ChatOpenAI(model=\"gpt-4-turbo-preview\")\n",
    "agent_executor = create_react_agent(llm, tools, state_modifier=SystemPrompt)\n",
    "SystemPrompt.pretty_print()"
   ]
  },
  {
   "cell_type": "markdown",
   "id": "8f69336d-eb3f-4a0e-ade2-2216016a472d",
   "metadata": {},
   "source": [
    "## 定义系统prompt"
   ]
  },
  {
   "cell_type": "code",
   "execution_count": 8,
   "id": "3485d159-751a-4073-8fa3-3e961c266c9e",
   "metadata": {},
   "outputs": [],
   "source": [
    "# from langchain.prompts import PromptTemplate\n",
    "# # from langchain.llms import OpenAI\n",
    "# # from langchain.chains import RunnableSequence\n",
    "\n",
    "# SystemPrompt = PromptTemplate(\n",
    "#     input_variables=[\"input\"],\n",
    "#     template=\"\"\"you are an expert at planning a multi-day journey. Now I will tell you some of my idea which include but not just the destination,\n",
    "# my interest and requirement. You should use tools and the template that I will give you later to help me generate a feasible and custom-made plan. \n",
    "# Any other request is NOT allowable, give me tender warning if I do so.\n",
    "# and here is my idea:{input}\n",
    "#     \"\"\"\n",
    "# )\n",
    "# search_chain = LLMChain(llm=llm,prompt=SystemPrompt) # 旧版本语法\n",
    "# search_chain = RunnableSequence([SystemPrompt, llm])\n",
    "# SystemPrompt.pretty_print()"
   ]
  },
  {
   "cell_type": "markdown",
   "id": "d01ccf8e-d64d-4c05-807b-4941947a3a46",
   "metadata": {},
   "source": [
    "## have a test"
   ]
  },
  {
   "cell_type": "code",
   "execution_count": 37,
   "id": "382ef428-633f-4a3a-a838-3050bd1369d5",
   "metadata": {},
   "outputs": [
    {
     "data": {
      "text/plain": [
       "{'messages': [HumanMessage(content='我和一个朋友想要去成都旅游三天，我们喜欢人文艺术。请你给我们规划一份行程安排。', additional_kwargs={}, response_metadata={}, id='37b32b59-9b63-420b-a8f5-20cc1f770c8b'),\n",
       "  AIMessage(content='', additional_kwargs={'tool_calls': [{'id': 'call_MttrX2nzJt2wggDrxM1IxQMx', 'function': {'arguments': '{\"query\":\"Chengdu 3-day travel itinerary for art and culture\"}', 'name': 'tavily_search_results_json'}, 'type': 'function'}], 'refusal': None}, response_metadata={'token_usage': {'completion_tokens': 29, 'prompt_tokens': 381, 'total_tokens': 410, 'completion_tokens_details': None, 'prompt_tokens_details': None}, 'model_name': 'gpt-4-turbo-2024-04-09', 'system_fingerprint': 'fp_5b26d85e12', 'finish_reason': 'tool_calls', 'logprobs': None}, id='run-c7913e59-9947-49e8-a7d7-66ccf7b20ec2-0', tool_calls=[{'name': 'tavily_search_results_json', 'args': {'query': 'Chengdu 3-day travel itinerary for art and culture'}, 'id': 'call_MttrX2nzJt2wggDrxM1IxQMx', 'type': 'tool_call'}], usage_metadata={'input_tokens': 381, 'output_tokens': 29, 'total_tokens': 410, 'input_token_details': {}, 'output_token_details': {}}),\n",
       "  ToolMessage(content='[{\"url\": \"https://thesunrisedreamers.com/tips/3-day-chengdu-itinerary/\", \"content\": \"Visit Tianfu Square. Next up on our 3 day Chengdu itinerary is a visit to the large Tianfu Square in the middle of the city. Tianfu Square is surrounded by tall skyscrapers and is the largest square in the city.. Around the Square, you\\'ll find the Sichuan Art Museum, Chengdu Museum, Sichuan Science and Technology Museum, Sichuan Library and Sichuan Theater.\"}, {\"url\": \"https://wanderlog.com/list/itinerary/261/3-day-chengdu-itinerary\", \"content\": \"Make the most out of your 3 days in Chengdu by exploring these top visited places: Chengdu Research Base of Giant Panda Breeding, 陈麻婆豆腐老店, 锦里, and Luodai Ancient Town ... 3-Day Chengdu Itinerary. When is your trip? ... If you have a lot of time in Chengdu, it\\'s worth a day trip. You can get a taxi for about 18 dollars\"}, {\"url\": \"https://www.chinahighlights.com/chengdu/3-day-tour.htm\", \"content\": \"Here is our sample itinerary of 3-Day Chengdu tour: 3-Day Giant Panda and Giant Buddha Tour. We can tailor-make an exclusive tour of Chengdu for you including anywhere else around Chengdu that you would like to go to. You Might Like. The Top 5 Chengdu Day Trips; Ultimate Chengdu Itineraries: How Long to Spend in Chengdu\"}]', name='tavily_search_results_json', id='a6858be9-b7dc-405b-8471-65ed0c0dcd07', tool_call_id='call_MttrX2nzJt2wggDrxM1IxQMx', artifact={'query': 'Chengdu 3-day travel itinerary for art and culture', 'follow_up_questions': None, 'answer': None, 'images': [], 'results': [{'title': 'The Best 3 Day Chengdu Itinerary: Things To Do (2024)', 'url': 'https://thesunrisedreamers.com/tips/3-day-chengdu-itinerary/', 'content': \"Visit Tianfu Square. Next up on our 3 day Chengdu itinerary is a visit to the large Tianfu Square in the middle of the city. Tianfu Square is surrounded by tall skyscrapers and is the largest square in the city.. Around the Square, you'll find the Sichuan Art Museum, Chengdu Museum, Sichuan Science and Technology Museum, Sichuan Library and Sichuan Theater.\", 'score': 0.9968273, 'raw_content': None}, {'title': '3-Day Chengdu Itinerary - Wanderlog', 'url': 'https://wanderlog.com/list/itinerary/261/3-day-chengdu-itinerary', 'content': \"Make the most out of your 3 days in Chengdu by exploring these top visited places: Chengdu Research Base of Giant Panda Breeding, 陈麻婆豆腐老店, 锦里, and Luodai Ancient Town ... 3-Day Chengdu Itinerary. When is your trip? ... If you have a lot of time in Chengdu, it's worth a day trip. You can get a taxi for about 18 dollars\", 'score': 0.996503, 'raw_content': None}, {'title': 'How to Spend 3 Days in Chengdu: the Perfect Itinerary - China Highlights', 'url': 'https://www.chinahighlights.com/chengdu/3-day-tour.htm', 'content': 'Here is our sample itinerary of 3-Day Chengdu tour: 3-Day Giant Panda and Giant Buddha Tour. We can tailor-make an exclusive tour of Chengdu for you including anywhere else around Chengdu that you would like to go to. You Might Like. The Top 5 Chengdu Day Trips; Ultimate Chengdu Itineraries: How Long to Spend in Chengdu', 'score': 0.99453074, 'raw_content': None}], 'response_time': 1.67}),\n",
       "  AIMessage(content='# 成都三日人文艺术之旅\\n---\\n## 第一天 - 天府广场及周边博物馆 - 晴 - (具体日期)\\n- **地点**: 成都市中心的天府广场\\n- **主要活动**: 参观四川美术馆、成都博物馆、四川科技馆、四川图书馆和四川剧院。\\n- **住宿**: 建议选择市中心附近的酒店，如成都锦江宾馆或天府丽都喜来登酒店，便于游览并感受成都的夜生活。\\n\\n---\\n## 第二天 - 锦里古街及附近景点 - 阴 - (具体日期)\\n- **地点**: 锦里古街\\n- **主要活动**: 探索锦里古街的传统四川建筑和小吃，体验地道的成都文化。之后可以访问陈麻婆豆腐老店，品尝正宗的麻婆豆腐。\\n- **住宿**: 仍建议留宿市中心，方便夜间进一步探索或享受成都的美食。\\n\\n---\\n## 第三天 - 洛带古镇日游 - 多云 - (具体日期)\\n- **地点**: 洛带古镇\\n- **主要活动**: 享受一个宁静的日出之旅到洛带古镇，体验古镇的历史和文化。乘坐出租车前往洛带，车程约需18美元。\\n- **住宿**: 返回成都市中心住宿，或在洛带古镇找寻具有当地特色的客栈，如洛带古镇客栈，体验一晚古镇生活。\\n\\n---\\n以上行程安排考虑了艺术与文化的深度体验，每天的活动都不会过于紧张，确保有足够的时间享受和探索。', additional_kwargs={'refusal': None}, response_metadata={'token_usage': {'completion_tokens': 585, 'prompt_tokens': 1603, 'total_tokens': 2188, 'completion_tokens_details': {'accepted_prediction_tokens': 0, 'audio_tokens': 0, 'reasoning_tokens': 0, 'rejected_prediction_tokens': 0}, 'prompt_tokens_details': {'audio_tokens': 0, 'cached_tokens': 0}}, 'model_name': 'gpt-4-turbo-2024-04-09', 'system_fingerprint': 'fp_5603ee5e2e', 'finish_reason': 'stop', 'logprobs': None}, id='run-0605e62e-4f3f-4e95-be45-2f97038f89c9-0', usage_metadata={'input_tokens': 1603, 'output_tokens': 585, 'total_tokens': 2188, 'input_token_details': {'audio': 0, 'cache_read': 0}, 'output_token_details': {'audio': 0, 'reasoning': 0}})]}"
      ]
     },
     "execution_count": 37,
     "metadata": {},
     "output_type": "execute_result"
    }
   ],
   "source": [
    "agent_executor.invoke({\n",
    "    \"messages\": [(\"user\", \"我和一个朋友想要去成都旅游三天，我们喜欢人文艺术。请你给我们规划一份行程安排。\")],\n",
    "})"
   ]
  },
  {
   "cell_type": "markdown",
   "id": "0c80a4b2-cc57-4e82-aab3-36fbed77e157",
   "metadata": {
    "jp-MarkdownHeadingCollapsed": true
   },
   "source": [
    "状态定义"
   ]
  },
  {
   "cell_type": "markdown",
   "id": "8f672415-211a-410b-80e7-3c0cc016f76c",
   "metadata": {},
   "source": [
    "## 状态定义"
   ]
  },
  {
   "cell_type": "markdown",
   "id": "8ac3a3d7-4a71-4bb7-b5d8-decb53113302",
   "metadata": {},
   "source": [
    "Let's now start by defining the state the track for this agent.（流程轨迹Track）\n",
    "- First, we will need to track the current plan. Let's represent that as a list of strings.\n",
    "- Next, we should track previously executed steps. Let's represent that as a list of tuples (these tuples will contain the step and then the result)\n",
    "- Finally, we need to have some state to represent the final response as well as the original input.\n",
    "- 首先，跟踪当前计划的轨迹，将其表示为字符串列表\n",
    "- 接下来，应该跟踪以前执行的步骤，让我们将其表示为元组列表（这些元组将包含步骤，然后包含结果）\n",
    "- 最后，需要有一些状态来表示最终响应和原始输入"
   ]
  },
  {
   "cell_type": "code",
   "execution_count": 38,
   "id": "d667be1c-35de-497b-91e9-f2e101544a3f",
   "metadata": {},
   "outputs": [],
   "source": [
    "import operator\n",
    "from typing import Annotated, List, Tuple\n",
    "from typing_extensions import TypedDict\n",
    "\n",
    "\n",
    "class PlanExecute(TypedDict):\n",
    "    input: str\n",
    "    plan: List[str] # 计划轨迹\n",
    "    past_steps: Annotated[List[Tuple], operator.add]\n",
    "    response: str # 响应结果"
   ]
  },
  {
   "cell_type": "markdown",
   "id": "a3bdfa54-a480-4362-97be-5f07453b6d56",
   "metadata": {},
   "source": [
    "## 规划步骤"
   ]
  },
  {
   "cell_type": "markdown",
   "id": "dc4282e6-4ee0-490f-8ccb-b61bb9c8103a",
   "metadata": {},
   "source": [
    "创建一个计划步骤，调用LLM获取结构化返回"
   ]
  },
  {
   "cell_type": "code",
   "execution_count": 39,
   "id": "7531eb7a-10b0-4675-a731-4c4fcc26ab6e",
   "metadata": {},
   "outputs": [],
   "source": [
    "from pydantic import BaseModel, Field\n",
    "\n",
    "\n",
    "class Plan(BaseModel):\n",
    "    \"\"\"Plan to follow in future\"\"\"\n",
    "\n",
    "    steps: List[str] = Field(\n",
    "        description=\"different steps to follow, should be in sorted order\"\n",
    "    )"
   ]
  },
  {
   "cell_type": "markdown",
   "id": "a1ad29bf-b31f-49f5-b9b5-4bc122baad86",
   "metadata": {},
   "source": [
    "组装"
   ]
  },
  {
   "cell_type": "code",
   "execution_count": 40,
   "id": "14009620-3cae-45f2-be10-a4e849c66830",
   "metadata": {},
   "outputs": [],
   "source": [
    "from langchain_core.prompts import ChatPromptTemplate\n",
    "\n",
    "planner_prompt = ChatPromptTemplate.from_messages(\n",
    "    [\n",
    "        (\n",
    "            \"system\",\n",
    "            \"\"\"For the given objective, come up with a simple step by step plan. \\\n",
    "This plan should involve individual tasks, that if executed correctly will yield the correct answer. Do not add any superfluous steps. \\\n",
    "The result of the final step should be the final answer. Make sure that each step has all the information needed - do not skip steps.\"\"\",\n",
    "        ),\n",
    "        (\"placeholder\", \"{messages}\"),\n",
    "    ]\n",
    ")\n",
    "planner = planner_prompt | ChatOpenAI(\n",
    "    model=\"gpt-4o\", temperature=0\n",
    ").with_structured_output(Plan)"
   ]
  },
  {
   "cell_type": "markdown",
   "id": "af46e4cf-9f75-40db-832d-a5254d46e1fb",
   "metadata": {},
   "source": [
    "验证"
   ]
  },
  {
   "cell_type": "code",
   "execution_count": 41,
   "id": "f0ac4ecc-7d6c-4519-bc33-297fe8e4ae2f",
   "metadata": {},
   "outputs": [
    {
     "data": {
      "text/plain": [
       "Plan(steps=['抵达成都并入住酒店。', '第一天：早餐后，参观宽窄巷子，感受古色古香的街道和成都的历史文化。午餐可以品尝当地的火锅。下午参观成都博物馆，欣赏各类人文艺术展品。晚上前往锦里古街，体验夜生活。', '第二天：早餐后，前往杜甫草堂，了解这位伟大诗人的生平和作品。午餐后，前往文殊院，在这座佛教寺庙中感受宗教与人文气息。夜晚可以观看川剧表演，体验地方艺术。', '第三天：早餐后，游览大熊猫繁育研究基地，看可爱的大熊猫，并了解保护工作。午餐后，可以选择参观四川省博物馆，进一步了解四川地区的历史和文化。购买一些伴手礼后准备返程。'])"
      ]
     },
     "execution_count": 41,
     "metadata": {},
     "output_type": "execute_result"
    }
   ],
   "source": [
    "planner.invoke(\n",
    "    {\n",
    "        \"messages\": [\n",
    "            (\"user\", \"我和一个朋友想要去成都旅游三天，我们喜欢人文艺术。请你给我们规划一份行程安排。\")\n",
    "        ]\n",
    "    }\n",
    ")"
   ]
  },
  {
   "cell_type": "markdown",
   "id": "e252101b-def7-44b0-a56d-067e6f9bcd1a",
   "metadata": {},
   "source": [
    "## 重规划"
   ]
  },
  {
   "cell_type": "code",
   "execution_count": 42,
   "id": "42c1fd71-785f-4192-a581-858ef92c7263",
   "metadata": {},
   "outputs": [],
   "source": [
    "from typing import Union\n",
    "\n",
    "\n",
    "class Response(BaseModel):\n",
    "    \"\"\"Response to user.\"\"\"\n",
    "\n",
    "    response: str\n",
    "\n",
    "\n",
    "class Act(BaseModel):\n",
    "    \"\"\"Action to perform.\"\"\"\n",
    "\n",
    "    action: Union[Response, Plan] = Field(\n",
    "        description=\"Action to perform. If you want to respond to user, use Response. \"\n",
    "        \"If you need to further use tools to get the answer, use Plan.\"\n",
    "    )\n",
    "\n",
    "\n",
    "replanner_prompt = ChatPromptTemplate.from_template(\n",
    "    \"\"\"For the given objective, come up with a simple step by step plan. \\\n",
    "This plan should involve individual tasks, that if executed correctly will yield the correct answer. Do not add any superfluous steps. \\\n",
    "The result of the final step should be the final answer. Make sure that each step has all the information needed - do not skip steps.\n",
    "\n",
    "Your objective was this:\n",
    "{input}\n",
    "\n",
    "Your original plan was this:\n",
    "{plan}\n",
    "\n",
    "You have currently done the follow steps:\n",
    "{past_steps}\n",
    "\n",
    "Update your plan accordingly. If no more steps are needed and you can return to the user, then respond with that. Otherwise, fill out the plan. Only add steps to the plan that still NEED to be done. Do not return previously done steps as part of the plan.\"\"\"\n",
    ")\n",
    "\n",
    "\n",
    "replanner = replanner_prompt | ChatOpenAI(\n",
    "    model=\"gpt-4o\", temperature=0\n",
    ").with_structured_output(Act)"
   ]
  },
  {
   "cell_type": "markdown",
   "id": "b68082c8-6a17-4788-9d45-a973cbf364a4",
   "metadata": {},
   "source": [
    "## 绘图\n",
    "将节点组装、定义条件边"
   ]
  },
  {
   "cell_type": "code",
   "execution_count": 43,
   "id": "d4ce9bc6-70ab-4686-9cc8-6ab7d197a512",
   "metadata": {},
   "outputs": [],
   "source": [
    "from typing import Literal\n",
    "from langgraph.graph import END\n",
    "\n",
    "\n",
    "async def execute_step(state: PlanExecute):\n",
    "    plan = state[\"plan\"]\n",
    "    plan_str = \"\\n\".join(f\"{i+1}. {step}\" for i, step in enumerate(plan))\n",
    "    task = plan[0]\n",
    "    task_formatted = f\"\"\"For the following plan:\n",
    "{plan_str}\\n\\nYou are tasked with executing step {1}, {task}.\"\"\"\n",
    "    agent_response = await agent_executor.ainvoke(\n",
    "        {\"messages\": [(\"user\", task_formatted)]}\n",
    "    )\n",
    "    return {\n",
    "        \"past_steps\": [(task, agent_response[\"messages\"][-1].content)],\n",
    "    }\n",
    "\n",
    "\n",
    "async def plan_step(state: PlanExecute):\n",
    "    plan = await planner.ainvoke({\"messages\": [(\"user\", state[\"input\"])]})\n",
    "    return {\"plan\": plan.steps}\n",
    "\n",
    "\n",
    "async def replan_step(state: PlanExecute):\n",
    "    output = await replanner.ainvoke(state)\n",
    "    if isinstance(output.action, Response):\n",
    "        return {\"response\": output.action.response}\n",
    "    else:\n",
    "        return {\"plan\": output.action.steps}\n",
    "\n",
    "\n",
    "def should_end(state: PlanExecute):\n",
    "    if \"response\" in state and state[\"response\"]:\n",
    "        return END\n",
    "    else:\n",
    "        return \"agent\""
   ]
  },
  {
   "cell_type": "code",
   "execution_count": 44,
   "id": "50f1b14a-1de4-47aa-95a7-90778dafc15d",
   "metadata": {},
   "outputs": [],
   "source": [
    "from langgraph.graph import StateGraph, START\n",
    "\n",
    "workflow = StateGraph(PlanExecute)\n",
    "\n",
    "# Add the plan node\n",
    "workflow.add_node(\"planner\", plan_step)\n",
    "\n",
    "# Add the execution step\n",
    "workflow.add_node(\"agent\", execute_step)\n",
    "\n",
    "# Add a replan node\n",
    "workflow.add_node(\"replan\", replan_step)\n",
    "\n",
    "workflow.add_edge(START, \"planner\")\n",
    "\n",
    "# From plan we go to agent\n",
    "workflow.add_edge(\"planner\", \"agent\")\n",
    "\n",
    "# From agent, we replan\n",
    "workflow.add_edge(\"agent\", \"replan\")\n",
    "\n",
    "workflow.add_conditional_edges(\n",
    "    \"replan\",\n",
    "    # Next, we pass in the function that will determine which node is called next.\n",
    "    should_end,\n",
    "    [\"agent\", END],\n",
    ")\n",
    "\n",
    "# Finally, we compile it!\n",
    "# This compiles it into a LangChain Runnable,\n",
    "# meaning you can use it as you would any other runnable\n",
    "app = workflow.compile()"
   ]
  },
  {
   "cell_type": "code",
   "execution_count": 45,
   "id": "7715cfa6-d4d9-413b-85a4-cf3975fb059d",
   "metadata": {},
   "outputs": [
    {
     "data": {
      "image/png": "[encoded data removed]",
      "text/plain": [
       "<IPython.core.display.Image object>"
      ]
     },
     "metadata": {},
     "output_type": "display_data"
    }
   ],
   "source": [
    "from IPython.display import Image, display\n",
    "\n",
    "display(Image(app.get_graph(xray=True).draw_mermaid_png()))"
   ]
  },
  {
   "cell_type": "code",
   "execution_count": 46,
   "id": "7336c9ff-3810-4e03-b0ed-7c9478c0ce86",
   "metadata": {},
   "outputs": [
    {
     "name": "stdout",
     "output_type": "stream",
     "text": [
      "{'plan': ['Day 1: Arrive in Chengdu and check into your hotel.', 'Day 1: Visit the Jinsha Site Museum in the morning to explore ancient Shu culture.', 'Day 1: Have lunch at a local Sichuan restaurant to taste authentic Sichuan cuisine.', 'Day 1: In the afternoon, visit the Sichuan Museum to see exhibits on local history and art.', 'Day 1: Spend the evening at Kuanzhai Alley to enjoy traditional architecture and local snacks.', \"Day 2: Visit the Chengdu Museum in the morning for a comprehensive view of Chengdu's history and arts.\", 'Day 2: Have lunch at a cafe or restaurant near the museum.', \"Day 2: In the afternoon, explore Chengdu's Wuhou Shrine and the nearby Jinli Ancient Street, known for cultural performances and arts and crafts.\", 'Day 2: Have dinner in Jinli Ancient Street at a traditional teahouse or restaurant.', 'Day 3: Spend the morning at Du Fu Thatched Cottage, a peaceful spot linked to the famous Tang Dynasty poet.', 'Day 3: Enjoy lunch at a rustic eatery nearby.', 'Day 3: Visit the Chengdu Art Museum in the afternoon to immerse in contemporary art displays.', 'Day 3: Conclude your trip with a visit to the Sichuan Opera for an evening performance to experience local traditional performing arts.']}\n",
      "{'past_steps': [('Day 1: Arrive in Chengdu and check into your hotel.', '# 成都之旅计划\\n---\\n## 第1天 - 抵达成都并入住酒店 - 小雨 - 2024年12月9日\\n- **关键词**: 成都天气\\n- **主要内容**: 当您抵达成都时，天气预报显示为小雨，气温大约为7.4°C（45.3°F），体感温度约为5.5°C（41.9°F）。请携带适合湿冷天气的衣物。\\n- **住宿信息**: 建议选择市中心区域的酒店，方便访问第一天的行程目的地，并且靠近多个餐馆和商店。\\n---')]}\n",
      "{'plan': ['Day 1: Visit the Jinsha Site Museum in the morning to explore ancient Shu culture.', 'Day 1: Have lunch at a local Sichuan restaurant to taste authentic Sichuan cuisine.', 'Day 1: In the afternoon, visit the Sichuan Museum to see exhibits on local history and art.', 'Day 1: Spend the evening at Kuanzhai Alley to enjoy traditional architecture and local snacks.', \"Day 2: Visit the Chengdu Museum in the morning for a comprehensive view of Chengdu's history and arts.\", 'Day 2: Have lunch at a cafe or restaurant near the museum.', \"Day 2: In the afternoon, explore Chengdu's Wuhou Shrine and the nearby Jinli Ancient Street, known for cultural performances and arts and crafts.\", 'Day 2: Have dinner in Jinli Ancient Street at a traditional teahouse or restaurant.', 'Day 3: Spend the morning at Du Fu Thatched Cottage, a peaceful spot linked to the famous Tang Dynasty poet.', 'Day 3: Enjoy lunch at a rustic eatery nearby.', 'Day 3: Visit the Chengdu Art Museum in the afternoon to immerse in contemporary art displays.', 'Day 3: Conclude your trip with a visit to the Sichuan Opera for an evening performance to experience local traditional performing arts.']}\n",
      "{'past_steps': [('Day 1: Visit the Jinsha Site Museum in the morning to explore ancient Shu culture.', '# 成都旅行计划\\n---\\n## 第1天 - 金沙遗址博物馆 - 小雨 - 2024年12月9日\\n- **关键词**: 古蜀文化探索\\n- **主要内容**: 金沙遗址博物馆位于成都市，是展示古蜀文化的重要场所。你将有机会探索关于这一古老文明的丰富历史和文化展品。\\n- **天气建议**: 由于预报显示当天有小雨，建议携带雨伞或雨具，穿着防水鞋和适合湿润天气的服装。\\n---')]}\n",
      "{'plan': ['Day 1: Have lunch at a local Sichuan restaurant to taste authentic Sichuan cuisine.', 'Day 1: In the afternoon, visit the Sichuan Museum to see exhibits on local history and art.', 'Day 1: Spend the evening at Kuanzhai Alley to enjoy traditional architecture and local snacks.', \"Day 2: Visit the Chengdu Museum in the morning for a comprehensive view of Chengdu's history and arts.\", 'Day 2: Have lunch at a cafe or restaurant near the museum.', \"Day 2: In the afternoon, explore Chengdu's Wuhou Shrine and the nearby Jinli Ancient Street, known for cultural performances and arts and crafts.\", 'Day 2: Have dinner in Jinli Ancient Street at a traditional teahouse or restaurant.', 'Day 3: Spend the morning at Du Fu Thatched Cottage, a peaceful spot linked to the famous Tang Dynasty poet.', 'Day 3: Enjoy lunch at a rustic eatery nearby.', 'Day 3: Visit the Chengdu Art Museum in the afternoon to immerse in contemporary art displays.', 'Day 3: Conclude your trip with a visit to the Sichuan Opera for an evening performance to experience local traditional performing arts.']}\n",
      "{'past_steps': [('Day 1: Have lunch at a local Sichuan restaurant to taste authentic Sichuan cuisine.', '# 成都行程计划\\n---\\n## 第1天 - 成都当地川菜餐厅 - 多云 - 日期待定\\n- **午餐地点**: 成都市内享用地道川菜\\n- **推荐餐厅**: 陈麻婆豆腐餐厅\\n- **详细内容**: 陈麻婆豆腐是一家成立于1862年的老字号川菜餐厅，以其麻婆豆腐闻名。餐厅地点 [TravelChinaGuide](https://www.travelchinaguide.com/cityguides/sichuan/chengdu-restaurants.htm)\\n---')]}\n",
      "{'plan': ['Day 1: In the afternoon, visit the Sichuan Museum to see exhibits on local history and art.', 'Day 1: Spend the evening at Kuanzhai Alley to enjoy traditional architecture and local snacks.', \"Day 2: Visit the Chengdu Museum in the morning for a comprehensive view of Chengdu's history and arts.\", 'Day 2: Have lunch at a cafe or restaurant near the museum.', \"Day 2: In the afternoon, explore Chengdu's Wuhou Shrine and the nearby Jinli Ancient Street, known for cultural performances and arts and crafts.\", 'Day 2: Have dinner in Jinli Ancient Street at a traditional teahouse or restaurant.', 'Day 3: Spend the morning at Du Fu Thatched Cottage, a peaceful spot linked to the famous Tang Dynasty poet.', 'Day 3: Enjoy lunch at a rustic eatery nearby.', 'Day 3: Visit the Chengdu Art Museum in the afternoon to immerse in contemporary art displays.', 'Day 3: Conclude your trip with a visit to the Sichuan Opera for an evening performance to experience local traditional performing arts.']}\n",
      "{'past_steps': [('Day 1: In the afternoon, visit the Sichuan Museum to see exhibits on local history and art.', '# 成都旅游计划\\n---\\n## 第1天 - 四川博物馆参观 - 小雨 - 2024年12月09日\\n- **关键词**: 四川历史与艺术\\n- **主要内容**: 下午访问四川博物馆，欣赏关于当地历史和艺术的展览。四川博物馆收藏了许多珍贵的历史文物和艺术作品，是了解四川文化的好去处。\\n- **天气提醒**: 预计天气为小雨，气温约7.4℃，体感温度约5.5℃。建议携带雨具，并穿着适合湿冷天气的衣物。\\n---')]}\n",
      "{'plan': ['Day 1: Spend the evening at Kuanzhai Alley to enjoy traditional architecture and local snacks.', \"Day 2: Visit the Chengdu Museum in the morning for a comprehensive view of Chengdu's history and arts.\", 'Day 2: Have lunch at a cafe or restaurant near the museum.', \"Day 2: In the afternoon, explore Chengdu's Wuhou Shrine and the nearby Jinli Ancient Street, known for cultural performances and arts and crafts.\", 'Day 2: Have dinner in Jinli Ancient Street at a traditional teahouse or restaurant.', 'Day 3: Spend the morning at Du Fu Thatched Cottage, a peaceful spot linked to the famous Tang Dynasty poet.', 'Day 3: Enjoy lunch at a rustic eatery nearby.', 'Day 3: Visit the Chengdu Art Museum in the afternoon to immerse in contemporary art displays.', 'Day 3: Conclude your trip with a visit to the Sichuan Opera for an evening performance to experience local traditional performing arts.']}\n",
      "{'past_steps': [('Day 1: Spend the evening at Kuanzhai Alley to enjoy traditional architecture and local snacks.', '# 成都游览计划\\n---\\n## 第1天 - 宽窄巷子 - 晚间轻雨 - 2024-12-09\\n- **关键词**: 传统建筑与地方小吃\\n- **主要内容**: 计划在宽窄巷子度过一个充满传统韵味的夜晚。宽窄巷子是成都著名的历史文化街区，以其保存完好的清朝古建筑而闻名。游客可以在这里欣赏到传统的四川建筑风貌，品尝到地道的成都小吃，如龙抄手、串串香等。\\n- **注意事项**: 当晚预报有轻雨，请携带雨具，并注意保暖，因为气温较低，体感温度约为5.3°C。\\n---')]}\n",
      "{'plan': [\"Day 2: Visit the Chengdu Museum in the morning for a comprehensive view of Chengdu's history and arts.\", 'Day 2: Have lunch at a cafe or restaurant near the museum.', \"Day 2: In the afternoon, explore Chengdu's Wuhou Shrine and the nearby Jinli Ancient Street, known for cultural performances and arts and crafts.\", 'Day 2: Have dinner in Jinli Ancient Street at a traditional teahouse or restaurant.', 'Day 3: Spend the morning at Du Fu Thatched Cottage, a peaceful spot linked to the famous Tang Dynasty poet.', 'Day 3: Enjoy lunch at a rustic eatery nearby.', 'Day 3: Visit the Chengdu Art Museum in the afternoon to immerse in contemporary art displays.', 'Day 3: Conclude your trip with a visit to the Sichuan Opera for an evening performance to experience local traditional performing arts.']}\n",
      "{'past_steps': [(\"Day 2: Visit the Chengdu Museum in the morning for a comprehensive view of Chengdu's history and arts.\", '# 成都之旅计划\\n---\\n## 第2天 - 成都博物馆 - 多云转小雨 - 2024年12月9日\\n- **关键词**: 历史艺术\\n- **主要内容**: 在成都博物馆，您将能够深入了解成都的历史与艺术。博物馆展出了丰富的文物和艺术作品，让您从古至今一览成都的文化发展。\\n- **天气建议**: 由于天气预报显示当天早上为多云，午后转小雨，建议您携带雨具，并穿着防滑的鞋子。\\n---')]}\n",
      "{'plan': ['Day 2: Have lunch at a cafe or restaurant near the museum.', \"Day 2: In the afternoon, explore Chengdu's Wuhou Shrine and the nearby Jinli Ancient Street, known for cultural performances and arts and crafts.\", 'Day 2: Have dinner in Jinli Ancient Street at a traditional teahouse or restaurant.', 'Day 3: Spend the morning at Du Fu Thatched Cottage, a peaceful spot linked to the famous Tang Dynasty poet.', 'Day 3: Enjoy lunch at a rustic eatery nearby.', 'Day 3: Visit the Chengdu Art Museum in the afternoon to immerse in contemporary art displays.', 'Day 3: Conclude your trip with a visit to the Sichuan Opera for an evening performance to experience local traditional performing arts.']}\n",
      "{'past_steps': [('Day 2: Have lunch at a cafe or restaurant near the museum.', '# 成都博物馆附近的午餐选择\\n---\\n## 第2天 - 成都博物馆附近的餐厅 - 多云 - 日期待定\\n- **关键词**: 午餐，咖啡馆，餐厅\\n- **主要内容**: 考虑到您的午餐需求，您可以选择“Temple Cafe”或“Hui Coffee”作为午餐地点。这些咖啡馆提供舒适的就餐环境，且评价颇高，适合享受一顿轻松的午餐。\\n- **位置信息**: “Temple Cafe”和“Hui Coffee”都位于成都博物馥附近，交通便利，可在参观博物馆后轻松前往。\\n---')]}\n",
      "{'plan': [\"Day 2: In the afternoon, explore Chengdu's Wuhou Shrine and the nearby Jinli Ancient Street, known for cultural performances and arts and crafts.\", 'Day 2: Have dinner in Jinli Ancient Street at a traditional teahouse or restaurant.', 'Day 3: Spend the morning at Du Fu Thatched Cottage, a peaceful spot linked to the famous Tang Dynasty poet.', 'Day 3: Enjoy lunch at a rustic eatery nearby.', 'Day 3: Visit the Chengdu Art Museum in the afternoon to immerse in contemporary art displays.', 'Day 3: Conclude your trip with a visit to the Sichuan Opera for an evening performance to experience local traditional performing arts.']}\n",
      "{'past_steps': [(\"Day 2: In the afternoon, explore Chengdu's Wuhou Shrine and the nearby Jinli Ancient Street, known for cultural performances and arts and crafts.\", '# 成都行程规划\\n---\\n## 第2天 - 武侯祠及锦里古街游览 - 小雨 - 2024年12月9日\\n- **关键词**: 文化表演，手工艺品\\n- **主要内容**: 下午参观成都武侯祠，这是纪念三国时期蜀汉丞相诸葛亮的祠堂，也是成都最有影响力的历史景点之一。之后前往附近的锦里古街，这里是体验成都传统文化、观看街头表演和购买手工艺品的好去处。\\n- **住宿建议**: 推荐在锦里古街附近的传统茶馆或餐馆享受晚餐，感受成都的地道文化氛围。\\n---')]}\n",
      "{'plan': ['Day 2: Have dinner in Jinli Ancient Street at a traditional teahouse or restaurant.', 'Day 3: Spend the morning at Du Fu Thatched Cottage, a peaceful spot linked to the famous Tang Dynasty poet.', 'Day 3: Enjoy lunch at a rustic eatery nearby.', 'Day 3: Visit the Chengdu Art Museum in the afternoon to immerse in contemporary art displays.', 'Day 3: Conclude your trip with a visit to the Sichuan Opera for an evening performance to experience local traditional performing arts.']}\n",
      "{'past_steps': [('Day 2: Have dinner in Jinli Ancient Street at a traditional teahouse or restaurant.', '# 成都之旅规划\\n---\\n## 第2天 - 锦里古街, 晚餐 - 小雨 - 2024-12-09\\n- **地点**: 锦里古街\\n- **主要内容**: 在这座充满传统风味的古街上，享受一顿地道的川菜。您可以选择一家传统茶馆或者餐厅，体验四川的茶文化和地方特色美食。\\n- **推荐餐厅**: 锦里古街上有许多知名的茶馆和餐厅，如张老幺泡菜鸡、龙抄手等，您可以根据个人口味选择。\\n- **天气预报**: 当天的天气预计为小雨，气温约7.2摄氏度，体感温度约4.5摄氏度。建议携带雨具并穿着保暖衣物。\\n---')]}\n",
      "{'plan': ['Day 3: Spend the morning at Du Fu Thatched Cottage, a peaceful spot linked to the famous Tang Dynasty poet.', 'Day 3: Enjoy lunch at a rustic eatery nearby.', 'Day 3: Visit the Chengdu Art Museum in the afternoon to immerse in contemporary art displays.', 'Day 3: Conclude your trip with a visit to the Sichuan Opera for an evening performance to experience local traditional performing arts.']}\n",
      "{'past_steps': [('Day 3: Spend the morning at Du Fu Thatched Cottage, a peaceful spot linked to the famous Tang Dynasty poet.', '# 旅行计划\\n---\\n## 第3天 - 成都，杜甫草堂 - 小雨 - 未来的某个周三\\n- **关键词**: 杜甫草堂, 文化遗产\\n- **主要内容**: 在这个充满历史气息的地方，您将能够沉浸在著名唐代诗人杜甫的文化氛围中。草堂不仅是杜甫的故居，也是一个展示其生平与诗歌的博物馆。\\n- **注意事项**: 鉴于天气预报显示当天会有小雨，请携带雨具以防不时之需。此外，杜甫草堂的环境十分宁静，请尊重此地文化氛围，保持适当的访问礼仪。\\n---')]}\n",
      "{'plan': ['Day 3: Enjoy lunch at a rustic eatery nearby Du Fu Thatched Cottage.', 'Day 3: Visit the Chengdu Art Museum in the afternoon to immerse in contemporary art displays.', 'Day 3: Conclude your trip with a visit to the Sichuan Opera for an evening performance to experience local traditional performing arts.']}\n",
      "{'past_steps': [('Day 3: Enjoy lunch at a rustic eatery nearby Du Fu Thatched Cottage.', '# 成都行程计划\\n---\\n## 第3天 - 杜甫草堂附近的乡村餐馆 - 部分多云 - 日期待定\\n- **餐馆位置**: 杜甫草堂附近\\n- **用餐选择**: 在[杜甫草堂附近的餐馆](https://www.tripadvisor.com/RestaurantsNear-g297463-d488516-Du_Fu_Cottage-Chengdu_Sichuan.html)中，您可以选择“DaZui BaWang PaiGu (ShuangNan ZhiYing)”来享受地道的成都美食。此餐馆位于青华路41号，距离杜甫草堂仅0.1英里。\\n- **详细内容**: “DaZui BaWang PaiGu”以其特色川菜而闻名，提供美味的排骨和传统四川小吃，是品尝地道四川口味的理想选择。\\n---')]}\n",
      "{'plan': ['Day 3: Visit the Chengdu Art Museum in the afternoon to immerse in contemporary art displays.', 'Day 3: Conclude your trip with a visit to the Sichuan Opera for an evening performance to experience local traditional performing arts.']}\n",
      "{'past_steps': [('Day 3: Visit the Chengdu Art Museum in the afternoon to immerse in contemporary art displays.', '# 成都行程规划\\n---\\n## 第3天 - 成都艺术博物馆 - 轻微降雨 - 2024年12月9日\\n- **活动**: 参观成都艺术博物馆\\n- **主要内容**: 下午时间，参观成都艺术博物馆，沉浸在当代艺术展览中。博物馆收藏了众多国内外艺术家的作品，是体验当代艺术风貌的绝佳场所。\\n- **建议携带物品**: 由于天气预报显示当天将会有轻微降雨，建议携带雨伞或雨具，以便在博物馆外的活动中保持干燥。\\n---')]}\n",
      "{'plan': ['Day 3: Conclude your trip with a visit to the Sichuan Opera for an evening performance to experience local traditional performing arts.']}\n",
      "{'past_steps': [('Day 3: Conclude your trip with a visit to the Sichuan Opera for an evening performance to experience local traditional performing arts.', '# 成都之旅 - 体验川剧\\n---\\n## 第3天 - 川剧晚间表演 - 未知天气预报 - 具体日期待定\\n- **活动**: 观看川剧晚间表演\\n- **主要内容**: 在成都的川剧晚间表演中，您将体验到传统的中国表演艺术。川剧以其独特的变脸技巧、传统音乐、喜剧小品等元素著称。在高峰季节（7月至10月），每天通常有两场表演，一场在18:00左右，另一场在20:00左右。\\n- **票务信息**: 川剧晚间表演的门票价格从每位成人$29.00起，具体价格视团体大小而定。建议提前预订门票以避免售罄，门票可在秦台路购买。\\n---')]}\n",
      "{'response': 'Your travel plan for Chengdu is now complete. Enjoy your trip filled with cultural and artistic experiences! If you have any further questions or need assistance, feel free to ask.'}\n"
     ]
    }
   ],
   "source": [
    "config = {\"recursion_limit\": 50}\n",
    "inputs = {\"input\": \"我和一个朋友想要去成都旅游三天，我们喜欢人文艺术。请你给我们规划一份行程安排。\"}\n",
    "async for event in app.astream(inputs, config=config):\n",
    "    for k, v in event.items():\n",
    "        if k != \"__end__\":\n",
    "            print(v)\n",
    "\n",
    "# async def run():\n",
    "#     config = {\"recursion_limit\": 20}\n",
    "#     inputs = {\n",
    "#         \"input\": \"我和一个朋友想要去成都旅游三天，我们喜欢人文艺术。请你给我们规划一份行程安排。\"}\n",
    "#     async for event in app.astream(inputs, config=config):\n",
    "#         for k, v in event.items():\n",
    "#             if k != \"__end__\":\n",
    "#                 print(v)\n",
    "\n",
    "# asyncio.run(run())"
   ]
  },
  {
   "cell_type": "code",
   "execution_count": null,
   "id": "9f5cffbd-4299-464b-b21c-973e2718a54a",
   "metadata": {},
   "outputs": [],
   "source": []
  }
 ],
 "metadata": {
  "kernelspec": {
   "display_name": "Python 3 (ipykernel)",
   "language": "python",
   "name": "python3"
  },
  "language_info": {
   "codemirror_mode": {
    "name": "ipython",
    "version": 3
   },
   "file_extension": ".py",
   "mimetype": "text/x-python",
   "name": "python",
   "nbconvert_exporter": "python",
   "pygments_lexer": "ipython3",
   "version": "3.12.6"
  }
 },
 "nbformat": 4,
 "nbformat_minor": 5
}
